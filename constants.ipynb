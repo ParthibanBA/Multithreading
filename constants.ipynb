{
 "cells": [
  {
   "cell_type": "code",
   "execution_count": 11,
   "metadata": {},
   "outputs": [],
   "source": [
    "video_path = \"/home/bautomation/Data_Extraction_Ships/videos/Welland_Canal_Bow_Forward_Far.mkv\"\n",
    "detection_path = \"/home/bautomation/Data_Extraction_Ships/detection\"\n",
    "threshold = 0.5\n",
    "#fps_1 = 15\n",
    "#fps_2 = 5\n",
    "every = 5\n",
    "port_number = 8501\n",
    "overwrite = False\n",
    "chunk_size=1000\n",
    "WRITE_FPS=15"
   ]
  },
  {
   "cell_type": "code",
   "execution_count": null,
   "metadata": {},
   "outputs": [],
   "source": [
    "#Welland_Canal_Bow_Forward_Far.mkv"
   ]
  },
  {
   "cell_type": "code",
   "execution_count": null,
   "metadata": {},
   "outputs": [],
   "source": []
  },
  {
   "cell_type": "code",
   "execution_count": null,
   "metadata": {},
   "outputs": [],
   "source": []
  },
  {
   "cell_type": "code",
   "execution_count": null,
   "metadata": {},
   "outputs": [],
   "source": []
  }
 ],
 "metadata": {
  "kernelspec": {
   "display_name": "Python 3",
   "language": "python",
   "name": "python3"
  },
  "language_info": {
   "codemirror_mode": {
    "name": "ipython",
    "version": 3
   },
   "file_extension": ".py",
   "mimetype": "text/x-python",
   "name": "python",
   "nbconvert_exporter": "python",
   "pygments_lexer": "ipython3",
   "version": "3.8.5"
  }
 },
 "nbformat": 4,
 "nbformat_minor": 4
}
