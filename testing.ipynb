{
 "cells": [
  {
   "cell_type": "code",
   "execution_count": null,
   "metadata": {},
   "outputs": [],
   "source": [
    "from concurrent.futures import ProcessPoolExecutor, as_completed\n",
    "import multiprocessing\n",
    "import os\n",
    "import logging\n",
    "import base64\n",
    "import io\n",
    "import json\n",
    "import cv2\n",
    "import requests\n",
    "import time  \n",
    "import sys\n",
    "import glob\n",
    "import numpy as np\n",
    "import ipynb.fs.full.constants as utils"
   ]
  },
  {
   "cell_type": "code",
   "execution_count": null,
   "metadata": {},
   "outputs": [],
   "source": [
    "import shutil\n",
    "import os\n",
    "def batch_alignment(batch_path):\n",
    "    total = len(os.listdir(batch_path))\n",
    "    print(total)\n",
    "    folder = 1\n",
    "    try:\n",
    "        os.makedirs(os.path.join(batch_path,\"Batch_{}\".format(str(folder))))\n",
    "    except:\n",
    "        print('Already exist')\n",
    "    value = 0\n",
    "    size = 1000\n",
    "    if os.path.exists(os.path.join(batch_path,\"Batch_{}\".format(str(folder))):\n",
    "        for i in range(0,total):\n",
    "            dir = os.path.join(batch_path,\"{}\".format(i))\n",
    "            file_names = os.listdir(dir)\n",
    "            length = len(file_names)\n",
    "            if (value+length)<size:\n",
    "                value = value + length\n",
    "                for file_name in file_names:\n",
    "                    dest = shutil.move(os.path.join(dir,file_name),os.path.join(batch_path,\"Batch_{}\".format(str(folder))))\n",
    "                \n",
    "            else:\n",
    "                folder+=1\n",
    "                try:\n",
    "                    os.makedirs(os.path.join(batch_path,\"Batch_{}\".format(str(folder))))\n",
    "                except:\n",
    "                    print('Already exist')\n",
    "                for file_name in file_names:\n",
    "                    dest = shutil.move(os.path.join(dir,file_name),os.path.join(batch_path,\"Batch_{}\".format(str(folder))))\n",
    "                value = length\n",
    "        \n",
    "        \n",
    "batch_alignment(\"/home/bautomation/Data_Extraction_Ships/Every-5\")"
   ]
  },
  {
   "cell_type": "code",
   "execution_count": null,
   "metadata": {},
   "outputs": [],
   "source": [
    "import os\n",
    "def isEmpty(batch_path): \n",
    "    if os.path.exists(batch_path):  # Checking if the directory is empty or not \n",
    "        total = len(os.listdir(batch_path))\n",
    "        for i in range(0,1295):\n",
    "            ls = os.listdir(os.path.join(batch_path,\"{}\".format(i))) \n",
    "            if len(ls) == 0:\n",
    "                os.rmdir(os.path.join(batch_path,\"{}\".format(i)))\n",
    "                print(f'Removing the directory - {i}')\n",
    "batch_path = \"/home/bautomation/Data_Extraction_Ships/Every-5\"  \n",
    "isEmpty(batch_path) \n",
    "   "
   ]
  },
  {
   "cell_type": "code",
   "execution_count": null,
   "metadata": {},
   "outputs": [],
   "source": [
    "WRITE_FPS=15\n",
    "img_array = []\n",
    "def process(path):\n",
    "    for i in range(1,12):\n",
    "        full_path = os.path.join(path,\"Batch_{}\".format(i))\n",
    "        print(full_path)\n",
    "        file_names = os.listdir(full_path)\n",
    "        for file in file_names:\n",
    "            image = cv2.imread(os.path.join(full_path,file))\n",
    "            height, width, layers = image.shape\n",
    "            size = (width,height)\n",
    "            img_array.append(image)\n",
    "        result = cv2.VideoWriter(\"{}.mp4\".format(i),cv2.VideoWriter_fourcc(*'MP4V'), WRITE_FPS, size)\n",
    "        for i in range(len(img_array)):\n",
    "            result.write(img_array[i])\n",
    "        result.release()\n",
    "\n",
    "path = \"/home/bautomation/Data_Extraction_Ships/test\"\n",
    "process(path)"
   ]
  }
 ],
 "metadata": {
  "kernelspec": {
   "display_name": "Python 3",
   "language": "python",
   "name": "python3"
  },
  "language_info": {
   "codemirror_mode": {
    "name": "ipython",
    "version": 3
   },
   "file_extension": ".py",
   "mimetype": "text/x-python",
   "name": "python",
   "nbconvert_exporter": "python",
   "pygments_lexer": "ipython3",
   "version": "3.8.5"
  }
 },
 "nbformat": 4,
 "nbformat_minor": 4
}
