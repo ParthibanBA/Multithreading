{
 "cells": [
  {
   "cell_type": "code",
   "execution_count": 12,
   "metadata": {},
   "outputs": [],
   "source": [
    "import os"
   ]
  },
  {
   "cell_type": "code",
   "execution_count": 10,
   "metadata": {},
   "outputs": [],
   "source": [
    "def remove_empty_dirs(path):\n",
    "    folders = os.listdir(path)\n",
    "    folders.remove('orchid-device.tag')\n",
    "    for folder_1 in folders:\n",
    "        parent_folder = os.path.join(path,folder_1)\n",
    "        sub_dirs = os.listdir(parent_folder)\n",
    "        for folder_2 in sub_dirs:\n",
    "            sub_folder = os.path.join(parent_folder,folder_2)\n",
    "            length_1 = os.listdir(sub_folder)\n",
    "            if len(length_1) == 0:\n",
    "                os.rmdir(sub_folder)\n",
    "        length_2 = os.listdir(parent_folder)\n",
    "        if len(length_2) == 0:\n",
    "            os.rmdir(parent_folder)"
   ]
  },
  {
   "cell_type": "code",
   "execution_count": 11,
   "metadata": {},
   "outputs": [],
   "source": [
    "path = \"/media/bautomation/ba_hd_01/orchives/e7fdec27-d800-48c2-9a70-98976f64b97d\"\n",
    "remove_empty_dirs(path)\n"
   ]
  },
  {
   "cell_type": "code",
   "execution_count": null,
   "metadata": {},
   "outputs": [],
   "source": []
  },
  {
   "cell_type": "code",
   "execution_count": null,
   "metadata": {},
   "outputs": [],
   "source": []
  }
 ],
 "metadata": {
  "kernelspec": {
   "display_name": "Python 3",
   "language": "python",
   "name": "python3"
  },
  "language_info": {
   "codemirror_mode": {
    "name": "ipython",
    "version": 3
   },
   "file_extension": ".py",
   "mimetype": "text/x-python",
   "name": "python",
   "nbconvert_exporter": "python",
   "pygments_lexer": "ipython3",
   "version": "3.8.5"
  }
 },
 "nbformat": 4,
 "nbformat_minor": 4
}
